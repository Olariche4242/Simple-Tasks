{
 "cells": [
  {
   "cell_type": "markdown",
   "id": "9db43895-f88b-4a8a-b929-dc469b3f774b",
   "metadata": {},
   "source": [
    "# TECHCRUSH TASK 2"
   ]
  },
  {
   "cell_type": "markdown",
   "id": "50b31c53-22d8-476c-8b9c-cf3667e74433",
   "metadata": {},
   "source": [
    "# Task i: Student Grading System"
   ]
  },
  {
   "cell_type": "code",
   "execution_count": 299,
   "id": "dfd59c47-89cc-45d5-bab2-bb1a9e4e4a31",
   "metadata": {},
   "outputs": [
    {
     "name": "stdin",
     "output_type": "stream",
     "text": [
      "What is your score: 90\n"
     ]
    },
    {
     "name": "stdout",
     "output_type": "stream",
     "text": [
      "Your score is A\n"
     ]
    }
   ],
   "source": [
    "user_input = int(input(\"What is your score:\"))\n",
    "if user_input >= 90:\n",
    "    print(\"Your score is A\")\n",
    "elif 80<= user_input <=89:\n",
    "    print(\"Your score is B\")\n",
    "elif 70<= user_input <=79:\n",
    "    print(\"Your score is C\")\n",
    "elif 60<= user_input <=69:\n",
    "    print(\"Your score is C\")\n",
    "elif user_input < 60:\n",
    "    print(\"Your score is F\")"
   ]
  },
  {
   "cell_type": "markdown",
   "id": "e6c1564c-7a59-4295-b10f-19341d5ad2b2",
   "metadata": {},
   "source": [
    "# Task ii: Simple Number Game"
   ]
  },
  {
   "cell_type": "code",
   "execution_count": 305,
   "id": "d134f270-be86-4d03-96f6-77a2f6d7fbc3",
   "metadata": {},
   "outputs": [
    {
     "name": "stdout",
     "output_type": "stream",
     "text": [
      "your answer is less than number\n"
     ]
    }
   ],
   "source": [
    "import random           # to import the random module\n",
    "number = randint(0, 10)\n",
    "for attempt in range(3):\n",
    "    ans = input(\"Try to guess the number i am thinking of!\")\n",
    "    clear_output()\n",
    "    if int(ans) == number:\n",
    "        print(\"Congrats! You guessed it correctly,\")\n",
    "        break\n",
    "    elif int(ans) < number:\n",
    "        print(\"your answer is less than number\")\n",
    "    elif int(ans) > number:\n",
    "        print(\"your answer is greater than number\")"
   ]
  },
  {
   "cell_type": "markdown",
   "id": "ec04efc7-61b1-4ece-8c72-d29bc89a4241",
   "metadata": {},
   "source": [
    "# Task iii: Multiplication Table Generator"
   ]
  },
  {
   "cell_type": "code",
   "execution_count": 303,
   "id": "c52e9ea5-9e9b-43ff-b8f0-0a0320c9812c",
   "metadata": {},
   "outputs": [
    {
     "name": "stdin",
     "output_type": "stream",
     "text": [
      "type in any number 123\n"
     ]
    },
    {
     "name": "stdout",
     "output_type": "stream",
     "text": [
      "123 x 1 = 123\n",
      "123 x 2 = 246\n",
      "123 x 3 = 369\n",
      "123 x 4 = 492\n",
      "123 x 5 = 615\n",
      "123 x 6 = 738\n",
      "123 x 7 = 861\n",
      "123 x 8 = 984\n",
      "123 x 9 = 1107\n",
      "123 x 10 = 1230\n",
      "123 x 11 = 1353\n",
      "123 x 12 = 1476\n"
     ]
    }
   ],
   "source": [
    "user_input = int(input(\"type in any number\"))\n",
    "for i in range(1, 13):\n",
    "    print(f\"{user_input} x {i} = {user_input * i}\")"
   ]
  },
  {
   "cell_type": "code",
   "execution_count": null,
   "id": "ef4fa36e-b58b-4eeb-9f39-f2883d15d3b1",
   "metadata": {},
   "outputs": [],
   "source": []
  }
 ],
 "metadata": {
  "kernelspec": {
   "display_name": "Python 3 (ipykernel)",
   "language": "python",
   "name": "python3"
  },
  "language_info": {
   "codemirror_mode": {
    "name": "ipython",
    "version": 3
   },
   "file_extension": ".py",
   "mimetype": "text/x-python",
   "name": "python",
   "nbconvert_exporter": "python",
   "pygments_lexer": "ipython3",
   "version": "3.12.7"
  }
 },
 "nbformat": 4,
 "nbformat_minor": 5
}
